{
 "cells": [
  {
   "cell_type": "markdown",
   "metadata": {},
   "source": [
    "# Four wave mixing simulation"
   ]
  },
  {
   "cell_type": "code",
   "execution_count": 61,
   "metadata": {},
   "outputs": [],
   "source": [
    "import numpy as np"
   ]
  },
  {
   "cell_type": "markdown",
   "metadata": {},
   "source": [
    "# Conservation of energy\n",
    "$$\n",
    "2 \\omega_{p} = \\omega_{s} + \\omega_{i}\n",
    "$$\n",
    "\n",
    "$\\omega_{s}$ is the signal frequency which corresponds to the shorter wavelength photon produced in four wave mixing.  \n",
    "$\\omega_{i}$ is the idler frequency which corresponds to the longer wavelength photon produced in four wave mixing process.  \n",
    "$\\omega_{p}$ is the pump frequency"
   ]
  },
  {
   "cell_type": "markdown",
   "metadata": {},
   "source": [
    "# Conservation of momentum\n",
    "$$\n",
    "2\\beta(\\omega_{p}) = \\beta(\\omega_{s}) + \\beta(\\omega_{i}) + 2\\gamma P\n",
    "$$\n",
    "Subtracting all onto one side gives\n",
    "$$\n",
    "2\\beta(\\omega_{p}) - \\beta(\\omega_{s}) - \\beta(\\omega_{i}) - 2\\gamma P = 0\n",
    "$$\n",
    "\n",
    "$\\gamma$ is approximately $0.2Wm^{-1}$  and $P$ is approximately equal to $100W$"
   ]
  },
  {
   "cell_type": "markdown",
   "metadata": {},
   "source": [
    "Mid IR wavelengths range roughly from 2500–25000nm  \n",
    "This corresponds to frequencies of 1.2*10^13 to 1.2*10^14  \n",
    "Which corresponds to angular frequencies of 2 $\\pi$ * these frequencies"
   ]
  },
  {
   "cell_type": "markdown",
   "metadata": {},
   "source": [
    "Will be using 1 micron to 1.6 microns for pump wavelength, with 100 points for spacing.  \n",
    "Signal needs a slightly larger range because the solution we are expecting is steeper in the shorter wavelength range.  \n",
    "100 by 100 matrices should work fine. Anything bigger than 200 by 200 will be too slow."
   ]
  },
  {
   "cell_type": "code",
   "execution_count": 62,
   "metadata": {},
   "outputs": [],
   "source": [
    "import RefractiveIndexClass"
   ]
  },
  {
   "cell_type": "code",
   "execution_count": 63,
   "metadata": {},
   "outputs": [],
   "source": [
    "# Function to convert wavelength to angular frequency\n",
    "def lambda_to_ang_freq(wavelength_matrix):\n",
    "    #return (2*np.pi*3e8*RefractiveIndexClass.RefractiveIndex.n_fs(wavelength_matrix*1.0e-9,parameter=\"wavelength\")) / wavelength_matrix\n",
    "    return (2*np.pi*3e8) / wavelength_matrix"
   ]
  },
  {
   "cell_type": "code",
   "execution_count": 64,
   "metadata": {},
   "outputs": [
    {
     "data": {
      "text/plain": [
       "array([[1.000e-06, 1.006e-06, 1.012e-06, ..., 1.582e-06, 1.588e-06,\n",
       "        1.594e-06],\n",
       "       [1.000e-06, 1.006e-06, 1.012e-06, ..., 1.582e-06, 1.588e-06,\n",
       "        1.594e-06],\n",
       "       [1.000e-06, 1.006e-06, 1.012e-06, ..., 1.582e-06, 1.588e-06,\n",
       "        1.594e-06],\n",
       "       ...,\n",
       "       [1.000e-06, 1.006e-06, 1.012e-06, ..., 1.582e-06, 1.588e-06,\n",
       "        1.594e-06],\n",
       "       [1.000e-06, 1.006e-06, 1.012e-06, ..., 1.582e-06, 1.588e-06,\n",
       "        1.594e-06],\n",
       "       [1.000e-06, 1.006e-06, 1.012e-06, ..., 1.582e-06, 1.588e-06,\n",
       "        1.594e-06]])"
      ]
     },
     "execution_count": 64,
     "metadata": {},
     "output_type": "execute_result"
    }
   ],
   "source": [
    "# PUMP WAVELENGTH MATRIX\n",
    "\n",
    "def create_pump_matrix(rows, columns, start_value, step):\n",
    "    matrix = np.zeros((rows, columns))\n",
    "    for i in range(columns):\n",
    "        matrix[:, i] = np.full(rows, start_value + i * step)\n",
    "    return matrix\n",
    "\n",
    "# Number of rows and columns, start and end values for the pump wavelengths, and spacing between each column value\n",
    "rows = 100\n",
    "columns = 100\n",
    "start_value = 1e-6 #1 micron in m\n",
    "end_value = 1.6e-6\n",
    "step = (end_value - start_value) / columns\n",
    "\n",
    "pump_wavelength_matrix = create_pump_matrix(rows, columns, start_value, step)\n",
    "\n",
    "pump_frequency_matrix = lambda_to_ang_freq(pump_wavelength_matrix)\n",
    "\n",
    "# for i in range(pump_frequency_matrix.shape[0]):\n",
    "#     for j in range(pump_frequency_matrix.shape[1]):\n",
    "#         pump_frequency_matrix[i, j] = pump_frequency_matrix[i,j]*RefractiveIndexClass.RefractiveIndex.n_fs(pump_frequency_matrix[i, j],parameter=\"omega\")\n",
    "\n",
    "#print(pump_frequency_matrix)\n",
    "\n",
    "pump_wavelength_matrix"
   ]
  },
  {
   "cell_type": "code",
   "execution_count": 65,
   "metadata": {},
   "outputs": [
    {
     "name": "stdout",
     "output_type": "stream",
     "text": [
      "[[1.00000000e-06 1.00000000e-06 1.00000000e-06 ... 1.00000000e-06\n",
      "  1.00000000e-06 1.00000000e-06]\n",
      " [1.00606061e-06 1.00606061e-06 1.00606061e-06 ... 1.00606061e-06\n",
      "  1.00606061e-06 1.00606061e-06]\n",
      " [1.01212121e-06 1.01212121e-06 1.01212121e-06 ... 1.01212121e-06\n",
      "  1.01212121e-06 1.01212121e-06]\n",
      " ...\n",
      " [1.58787879e-06 1.58787879e-06 1.58787879e-06 ... 1.58787879e-06\n",
      "  1.58787879e-06 1.58787879e-06]\n",
      " [1.59393939e-06 1.59393939e-06 1.59393939e-06 ... 1.59393939e-06\n",
      "  1.59393939e-06 1.59393939e-06]\n",
      " [1.60000000e-06 1.60000000e-06 1.60000000e-06 ... 1.60000000e-06\n",
      "  1.60000000e-06 1.60000000e-06]]\n"
     ]
    }
   ],
   "source": [
    "#SIGNAL WAVELENGTH MATRIX\n",
    "\n",
    "def create_matrix(rows, columns, min_value, max_value):\n",
    "    matrix = np.zeros((rows, columns))\n",
    "    for i in range(columns):\n",
    "        matrix[:, i] = np.linspace(min_value, max_value, rows)\n",
    "    return matrix\n",
    "\n",
    "# Example usage\n",
    "rows = 100\n",
    "columns = 100\n",
    "min_value = 1.0e-6\n",
    "max_value = 1.6e-6\n",
    "\n",
    "signal_wavelength_matrix = create_matrix(rows, columns, min_value, max_value)\n",
    "signal_frequency_matrix = lambda_to_ang_freq(signal_wavelength_matrix)\n",
    "\n",
    "# for i in range(signal_frequency_matrix.shape[0]):\n",
    "#     for j in range(signal_frequency_matrix.shape[1]):\n",
    "#         signal_frequency_matrix[i, j] = signal_frequency_matrix[i,j]*RefractiveIndexClass.RefractiveIndex.n_fs(signal_frequency_matrix[i, j],parameter=\"omega\")\n",
    "\n",
    "print(signal_wavelength_matrix)"
   ]
  },
  {
   "cell_type": "code",
   "execution_count": 66,
   "metadata": {},
   "outputs": [
    {
     "data": {
      "text/plain": [
       "array([[1.88495559e+15, 1.86247103e+15, 1.84025309e+15, ...,\n",
       "        4.98047685e+14, 4.89043894e+14, 4.80107886e+14],\n",
       "       [1.89631075e+15, 1.87382619e+15, 1.85160824e+15, ...,\n",
       "        5.09402839e+14, 5.00399048e+14, 4.91463040e+14],\n",
       "       [1.90752991e+15, 1.88504535e+15, 1.86282741e+15, ...,\n",
       "        5.20622003e+14, 5.11618213e+14, 5.02682205e+14],\n",
       "       ...,\n",
       "       [2.58282083e+15, 2.56033627e+15, 2.53811833e+15, ...,\n",
       "        1.19591292e+15, 1.18690913e+15, 1.17797312e+15],\n",
       "       [2.58733448e+15, 2.56484992e+15, 2.54263198e+15, ...,\n",
       "        1.20042657e+15, 1.19142278e+15, 1.18248678e+15],\n",
       "       [2.59181394e+15, 2.56932938e+15, 2.54711144e+15, ...,\n",
       "        1.20490603e+15, 1.19590224e+15, 1.18696623e+15]])"
      ]
     },
     "execution_count": 66,
     "metadata": {},
     "output_type": "execute_result"
    }
   ],
   "source": [
    "# CALCULATION TO GET IDLER WAVELENGTH MATRIX\n",
    "\n",
    "#idler_wavelength_matrix = 2*pump_wavelength_matrix - signal_wavelength_matrix #Using cons of energy equation\n",
    "\n",
    "idler_frequency_matrix = 2*pump_frequency_matrix - signal_frequency_matrix\n",
    "\n",
    "# for i in range(idler_frequency_matrix.shape[0]):\n",
    "#     for j in range(idler_frequency_matrix.shape[1]):\n",
    "#         idler_frequency_matrix[i, j] = idler_frequency_matrix[i,j]*RefractiveIndexClass.RefractiveIndex.n_fs(idler_frequency_matrix[i, j],parameter=\"omega\")\n",
    "\n",
    "idler_frequency_matrix"
   ]
  },
  {
   "cell_type": "markdown",
   "metadata": {},
   "source": [
    "## Input all pump and signal and idler frequencies into beta, then calculate matrix of $\\Delta\\beta$ so we can plot it and see if we get expected shape."
   ]
  },
  {
   "cell_type": "code",
   "execution_count": 67,
   "metadata": {},
   "outputs": [
    {
     "data": {
      "text/plain": [
       "array([[-4.00000000e-02, -2.65532347e+00, -1.01590632e+01, ...,\n",
       "         3.52109110e+04,  3.71746504e+04,  3.92561106e+04],\n",
       "       [-2.76428655e+00, -4.02636444e-02, -2.48931512e+00, ...,\n",
       "         3.29157887e+04,  3.47251471e+04,  3.66391833e+04],\n",
       "       [-1.08063421e+01, -2.69725088e+00, -4.10079611e-02, ...,\n",
       "         3.08191232e+04,  3.24915309e+04,  3.42575486e+04],\n",
       "       ...,\n",
       "       [-9.28264904e+03, -8.78343671e+03, -8.30562318e+03, ...,\n",
       "         5.78417564e-01, -3.97329842e-02,  6.51438470e-01],\n",
       "       [-9.38725912e+03, -8.88379837e+03, -8.40184430e+03, ...,\n",
       "         2.49162805e+00,  5.96263750e-01, -3.99327352e-02],\n",
       "       [-9.49125685e+03, -8.98356826e+03, -8.49749351e+03, ...,\n",
       "         5.67146018e+00,  2.53784439e+00,  6.14297418e-01]])"
      ]
     },
     "execution_count": 67,
     "metadata": {},
     "output_type": "execute_result"
    }
   ],
   "source": [
    "pump_beta = RefractiveIndexClass.RefractiveIndex.n_fs(pump_frequency_matrix,parameter=\"omega\") * pump_frequency_matrix / 3e8\n",
    "#print(pump_beta)\n",
    "signal_beta = RefractiveIndexClass.RefractiveIndex.n_fs(signal_frequency_matrix, parameter=\"omega\") * signal_frequency_matrix / 3e8\n",
    "idler_beta = RefractiveIndexClass.RefractiveIndex.n_fs(idler_frequency_matrix, parameter=\"omega\") * idler_frequency_matrix / 3e8\n",
    "\n",
    "gamma = 2e-4 #Unit is m^-1 W^-1\n",
    "P = 100 # W\n",
    "\n",
    "# Momentum conservation equation\n",
    "delta_beta = 2*pump_beta - signal_beta - idler_beta - 2*gamma*P\n",
    "delta_beta"
   ]
  },
  {
   "cell_type": "code",
   "execution_count": null,
   "metadata": {},
   "outputs": [],
   "source": []
  },
  {
   "cell_type": "code",
   "execution_count": 68,
   "metadata": {},
   "outputs": [
    {
     "data": {
      "image/png": "[encoded data removed]",
      "text/plain": [
       "<Figure size 432x288 with 2 Axes>"
      ]
     },
     "metadata": {
      "needs_background": "light"
     },
     "output_type": "display_data"
    }
   ],
   "source": [
    "# Plot the heatmap\n",
    "import matplotlib.pyplot as plt\n",
    "plt.imshow(delta_beta, cmap='jet', interpolation='nearest')\n",
    "plt.colorbar()  # Add colorbar to show the scale\n",
    "plt.show()"
   ]
  },
  {
   "cell_type": "code",
   "execution_count": 69,
   "metadata": {},
   "outputs": [
    {
     "data": {
      "text/plain": [
       "Text(0.5, 1.0, 'Phase Matching Plot')"
      ]
     },
     "execution_count": 69,
     "metadata": {},
     "output_type": "execute_result"
    },
    {
     "data": {
      "image/png": "[encoded data removed]",
      "text/plain": [
       "<Figure size 432x288 with 1 Axes>"
      ]
     },
     "metadata": {
      "needs_background": "light"
     },
     "output_type": "display_data"
    }
   ],
   "source": [
    "X = np.linspace(0,100,100)\n",
    "Y = np.linspace(0,-100,100)\n",
    "plt.contour(X, -Y, -1*delta_beta,levels=[0])\n",
    "plt.xlabel('X')\n",
    "plt.ylabel('Y')\n",
    "plt.title('Phase Matching Plot')"
   ]
  },
  {
   "cell_type": "markdown",
   "metadata": {},
   "source": [
    "# Test"
   ]
  },
  {
   "cell_type": "code",
   "execution_count": null,
   "metadata": {},
   "outputs": [],
   "source": []
  },
  {
   "cell_type": "code",
   "execution_count": null,
   "metadata": {},
   "outputs": [],
   "source": []
  },
  {
   "cell_type": "code",
   "execution_count": null,
   "metadata": {},
   "outputs": [],
   "source": []
  },
  {
   "cell_type": "code",
   "execution_count": 70,
   "metadata": {},
   "outputs": [
    {
     "data": {
      "image/png": "[encoded data removed]",
      "text/plain": [
       "<Figure size 432x288 with 2 Axes>"
      ]
     },
     "metadata": {
      "needs_background": "light"
     },
     "output_type": "display_data"
    }
   ],
   "source": [
    "x = np.linspace(-3, 3, 100)\n",
    "y = np.linspace(-3, 3, 100)\n",
    "X, Y = np.meshgrid(x, y)\n",
    "Z = np.sin(X) + np.cos(Y)\n",
    "\n",
    "# Create contour plot\n",
    "plt.contour(X, Y, Z)\n",
    "plt.xlabel('X')\n",
    "plt.ylabel('Y')\n",
    "plt.title('Contour Plot')\n",
    "plt.colorbar()  # Add color bar to show the scale\n",
    "plt.show()"
   ]
  },
  {
   "cell_type": "code",
   "execution_count": null,
   "metadata": {},
   "outputs": [],
   "source": []
  },
  {
   "cell_type": "code",
   "execution_count": null,
   "metadata": {},
   "outputs": [],
   "source": []
  },
  {
   "cell_type": "markdown",
   "metadata": {},
   "source": [
    "# Modelling for HCF filled with noble gas"
   ]
  },
  {
   "cell_type": "markdown",
   "metadata": {},
   "source": [
    "Equation 22 of Markos paper will let us calculate the bulk refractive index of the gas in the fibre.  \n",
    "$$ n^{2}_{gas} - 1 = Re(\\chi_{e}) =  \\sum_{t}^{} \\frac{N_{t}}{N_{t,0}}Re(\\chi_{t,e})  $$  \n",
    "Or can use this equation from Borzsonyi 2008 paper:  \n",
    "$$ n^{2}(\\lambda,p,T) - 1 = \\frac{p}{p_{0}}\\frac{T_{0}}{T} [\\frac{B_{1}\\lambda^{2}}{\\lambda^{2}-C_{1}} + \\frac{B_{2}\\lambda^{2}}{\\lambda^{2}-C_{2}}] $$"
   ]
  }
 ],
 "metadata": {
  "kernelspec": {
   "display_name": "base",
   "language": "python",
   "name": "python3"
  },
  "language_info": {
   "codemirror_mode": {
    "name": "ipython",
    "version": 3
   },
   "file_extension": ".py",
   "mimetype": "text/x-python",
   "name": "python",
   "nbconvert_exporter": "python",
   "pygments_lexer": "ipython3",
   "version": "3.8.3"
  }
 },
 "nbformat": 4,
 "nbformat_minor": 2
}
