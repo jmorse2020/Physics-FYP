{
 "cells": [
  {
   "cell_type": "markdown",
   "metadata": {},
   "source": [
    "# Four wave mixing simulation"
   ]
  },
  {
   "cell_type": "code",
   "execution_count": 9,
   "metadata": {},
   "outputs": [],
   "source": [
    "import numpy as np"
   ]
  },
  {
   "cell_type": "markdown",
   "metadata": {},
   "source": [
    "# Conservation of energy\n",
    "$$\n",
    "2 \\omega_{p} = \\omega_{s} + \\omega_{i}\n",
    "$$\n",
    "\n",
    "$\\omega_{s}$ is the signal frequency which corresponds to the shorter wavelength photon produced in four wave mixing.  \n",
    "$\\omega_{i}$ is the idler frequency which corresponds to the longer wavelength photon produced in four wave mixing process.  \n",
    "$\\omega_{p}$ is the pump frequency"
   ]
  },
  {
   "cell_type": "markdown",
   "metadata": {},
   "source": [
    "# Conservation of momentum\n",
    "$$\n",
    "2\\beta(\\omega_{p}) = \\beta(\\omega_{s}) + \\beta(\\omega_{i}) + 2\\gamma P\n",
    "$$\n",
    "Subtracting all onto one side gives\n",
    "$$\n",
    "2\\beta(\\omega_{p}) - \\beta(\\omega_{s}) - \\beta(\\omega_{i}) - 2\\gamma P = 0\n",
    "$$\n",
    "\n",
    "$\\gamma$ is approximately $0.2Wm^{-1}$  and $P$ is approximately equal to $100W$"
   ]
  },
  {
   "cell_type": "markdown",
   "metadata": {},
   "source": [
    "Mid IR wavelengths range roughly from 2500–25000nm  \n",
    "This corresponds to frequencies of 1.2*10^13 to 1.2*10^14  \n",
    "Which corresponds to angular frequencies of 2 $\\pi$ * these frequencies"
   ]
  },
  {
   "cell_type": "markdown",
   "metadata": {},
   "source": [
    "Will be using 1 micron to 1.6 microns for pump wavelength, with 100 points for spacing.  \n",
    "Signal needs a slightly larger range because the solution we are expecting is steeper in the shorter wavelength range.  \n",
    "100 by 100 matrices should work fine. Anything bigger than 200 by 200 will be too slow."
   ]
  },
  {
   "cell_type": "code",
   "execution_count": 10,
   "metadata": {},
   "outputs": [],
   "source": [
    "# Function to convert wavelength to angular frequency\n",
    "def lambda_to_ang_freq(wavelength_matrix):\n",
    "    return (2*np.pi*3e8) / wavelength_matrix"
   ]
  },
  {
   "cell_type": "code",
   "execution_count": 11,
   "metadata": {},
   "outputs": [
    {
     "data": {
      "text/plain": [
       "array([[1.88495559e+15, 1.68299606e+15, 1.52012548e+15, 1.38599676e+15,\n",
       "        1.27361864e+15],\n",
       "       [1.88495559e+15, 1.68299606e+15, 1.52012548e+15, 1.38599676e+15,\n",
       "        1.27361864e+15],\n",
       "       [1.88495559e+15, 1.68299606e+15, 1.52012548e+15, 1.38599676e+15,\n",
       "        1.27361864e+15],\n",
       "       [1.88495559e+15, 1.68299606e+15, 1.52012548e+15, 1.38599676e+15,\n",
       "        1.27361864e+15],\n",
       "       [1.88495559e+15, 1.68299606e+15, 1.52012548e+15, 1.38599676e+15,\n",
       "        1.27361864e+15]])"
      ]
     },
     "execution_count": 11,
     "metadata": {},
     "output_type": "execute_result"
    }
   ],
   "source": [
    "# PUMP WAVELENGTH MATRIX\n",
    "\n",
    "def create_pump_matrix(rows, columns, start_value, step):\n",
    "    matrix = np.zeros((rows, columns))\n",
    "    for i in range(columns):\n",
    "        matrix[:, i] = np.full(rows, start_value + i * step)\n",
    "    return matrix\n",
    "\n",
    "# Number of rows and columns, start and end values for the pump wavelengths, and calculating the spacing between each column value\n",
    "rows = 5\n",
    "columns = 5\n",
    "start_value = 1e-6\n",
    "end_value = 1.6e-6\n",
    "step = (end_value - start_value) / columns\n",
    "\n",
    "pump_wavelength_matrix = create_pump_matrix(rows, columns, start_value, step)\n",
    "pump_frequency_matrix = lambda_to_ang_freq(pump_wavelength_matrix)\n",
    "pump_frequency_matrix\n",
    "#print(pump_wavelength_matrix)"
   ]
  },
  {
   "cell_type": "code",
   "execution_count": 12,
   "metadata": {},
   "outputs": [
    {
     "name": "stdout",
     "output_type": "stream",
     "text": [
      "[[5.000e-07 5.000e-07 5.000e-07 5.000e-07 5.000e-07]\n",
      " [1.025e-06 1.025e-06 1.025e-06 1.025e-06 1.025e-06]\n",
      " [1.550e-06 1.550e-06 1.550e-06 1.550e-06 1.550e-06]\n",
      " [2.075e-06 2.075e-06 2.075e-06 2.075e-06 2.075e-06]\n",
      " [2.600e-06 2.600e-06 2.600e-06 2.600e-06 2.600e-06]]\n"
     ]
    }
   ],
   "source": [
    "#SIGNAL WAVELENGTH MATRIX\n",
    "\n",
    "def create_matrix(rows, columns, min_value, max_value):\n",
    "    matrix = np.zeros((rows, columns))\n",
    "    for i in range(columns):\n",
    "        matrix[:, i] = np.linspace(min_value, max_value, rows)\n",
    "    return matrix\n",
    "\n",
    "# Example usage\n",
    "rows = 5\n",
    "columns = 5\n",
    "min_value = 0.5e-6\n",
    "max_value = 2.6e-6\n",
    "\n",
    "signal_wavelength_matrix = create_matrix(rows, columns, min_value, max_value)\n",
    "signal_frequency_matrix = lambda_to_ang_freq(signal_wavelength_matrix)\n",
    "print(signal_wavelength_matrix)"
   ]
  },
  {
   "cell_type": "code",
   "execution_count": 13,
   "metadata": {},
   "outputs": [
    {
     "data": {
      "text/plain": [
       "array([[ 1.25663706e+15,  1.08330781e+15,  9.51997774e+14,\n",
       "         8.49079096e+14,  7.66242111e+14],\n",
       "       [ 1.93328779e+15,  1.55140378e+15,  1.29550213e+15,\n",
       "         1.11206820e+15,  9.74137257e+14],\n",
       "       [ 4.18879020e+15,  2.73181970e+15,  2.02683397e+15,\n",
       "         1.61107316e+15,  1.33684794e+15],\n",
       "       [-2.51327412e+16,  1.14239733e+16,  4.65421134e+15,\n",
       "         2.92241177e+15,  2.12989332e+15],\n",
       "       [-3.14159265e+15, -5.23598776e+15, -1.57079633e+16,\n",
       "         1.57079633e+16,  5.23598776e+15]])"
      ]
     },
     "execution_count": 13,
     "metadata": {},
     "output_type": "execute_result"
    }
   ],
   "source": [
    "# CALCULATION TO GET IDLER WAVELENGTH MATRIX\n",
    "\n",
    "idler_wavelength_matrix = 2*pump_wavelength_matrix - signal_wavelength_matrix #Using cons of energy equation\n",
    "idler_frequency_matrix = lambda_to_ang_freq(idler_wavelength_matrix) # Converting to angular frequency in prep for\n",
    "idler_frequency_matrix"
   ]
  },
  {
   "cell_type": "markdown",
   "metadata": {},
   "source": [
    "## Input all pump and signal frequencies into beta, then calculate matrix of $\\beta(\\omega_{i})$ so we can plot it and see if we get expected shape"
   ]
  },
  {
   "cell_type": "code",
   "execution_count": 23,
   "metadata": {},
   "outputs": [
    {
     "data": {
      "text/plain": [
       "array([[1.88495559e+15, 1.68299606e+15, 1.52012548e+15, 1.38599676e+15,\n",
       "        1.27361864e+15],\n",
       "       [1.88495559e+15, 1.68299606e+15, 1.52012548e+15, 1.38599676e+15,\n",
       "        1.27361864e+15],\n",
       "       [1.88495559e+15, 1.68299606e+15, 1.52012548e+15, 1.38599676e+15,\n",
       "        1.27361864e+15],\n",
       "       [1.88495559e+15, 1.68299606e+15, 1.52012548e+15, 1.38599676e+15,\n",
       "        1.27361864e+15],\n",
       "       [1.88495559e+15, 1.68299606e+15, 1.52012548e+15, 1.38599676e+15,\n",
       "        1.27361864e+15]])"
      ]
     },
     "execution_count": 23,
     "metadata": {},
     "output_type": "execute_result"
    }
   ],
   "source": [
    "# Beta for fused silica as a function of angular frequency we found from previous work.\n",
    "pump_frequency_matrix"
   ]
  },
  {
   "cell_type": "code",
   "execution_count": 18,
   "metadata": {},
   "outputs": [],
   "source": [
    "import RefractiveIndexClass"
   ]
  },
  {
   "cell_type": "code",
   "execution_count": 25,
   "metadata": {},
   "outputs": [
    {
     "data": {
      "text/plain": [
       "array([[1.45041741, 1.44896961, 1.44759631, 1.44623664, 1.4448526 ],\n",
       "       [1.45041741, 1.44896961, 1.44759631, 1.44623664, 1.4448526 ],\n",
       "       [1.45041741, 1.44896961, 1.44759631, 1.44623664, 1.4448526 ],\n",
       "       [1.45041741, 1.44896961, 1.44759631, 1.44623664, 1.4448526 ],\n",
       "       [1.45041741, 1.44896961, 1.44759631, 1.44623664, 1.4448526 ]])"
      ]
     },
     "execution_count": 25,
     "metadata": {},
     "output_type": "execute_result"
    }
   ],
   "source": [
    "result_array = RefractiveIndexClass.RefractiveIndex.n_fs(pump_frequency_matrix,parameter=\"omega\")\n",
    "result_array"
   ]
  },
  {
   "cell_type": "code",
   "execution_count": null,
   "metadata": {},
   "outputs": [],
   "source": []
  },
  {
   "cell_type": "code",
   "execution_count": null,
   "metadata": {},
   "outputs": [],
   "source": []
  },
  {
   "cell_type": "code",
   "execution_count": null,
   "metadata": {},
   "outputs": [],
   "source": []
  },
  {
   "cell_type": "markdown",
   "metadata": {},
   "source": [
    "# Modelling for HCF filled with noble gas"
   ]
  },
  {
   "cell_type": "markdown",
   "metadata": {},
   "source": [
    "Equation 22 of Markos paper will let us calculate the bulk refractive index of the gas in the fibre.  \n",
    "$$ n^{2}_{gas} - 1 = Re(\\chi_{e}) =  \\sum_{t}^{} \\frac{N_{t}}{N_{t,0}}Re(\\chi_{t,e})  $$  \n",
    "Or can use this equation from Borzsonyi 2008 paper:  \n",
    "$$ n^{2}(\\lambda,p,T) - 1 = \\frac{p}{p_{0}}\\frac{T_{0}}{T} [\\frac{B_{1}\\lambda^{2}}{\\lambda^{2}-C_{1}} + \\frac{B_{2}\\lambda^{2}}{\\lambda^{2}-C_{2}}] $$"
   ]
  }
 ],
 "metadata": {
  "kernelspec": {
   "display_name": "base",
   "language": "python",
   "name": "python3"
  },
  "language_info": {
   "codemirror_mode": {
    "name": "ipython",
    "version": 3
   },
   "file_extension": ".py",
   "mimetype": "text/x-python",
   "name": "python",
   "nbconvert_exporter": "python",
   "pygments_lexer": "ipython3",
   "version": "3.8.3"
  }
 },
 "nbformat": 4,
 "nbformat_minor": 2
}
