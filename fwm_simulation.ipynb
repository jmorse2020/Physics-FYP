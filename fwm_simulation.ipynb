{
 "cells": [
  {
   "cell_type": "markdown",
   "metadata": {},
   "source": [
    "# Four wave mixing simulation"
   ]
  },
  {
   "cell_type": "code",
   "execution_count": 1,
   "metadata": {},
   "outputs": [],
   "source": [
    "import numpy as np"
   ]
  },
  {
   "cell_type": "markdown",
   "metadata": {},
   "source": [
    "# Conservation of energy\n",
    "$$\n",
    "2 \\omega_{p} = \\omega_{s} + \\omega_{i}\n",
    "$$\n",
    "\n",
    "$\\omega_{s}$ is the signal frequency which corresponds to the shorter wavelength photon produced in four wave mixing.  \n",
    "$\\omega_{i}$ is the idler frequency which corresponds to the longer wavelength photon produced in four wave mixing process.  \n",
    "$\\omega_{p}$ is the pump frequency"
   ]
  },
  {
   "cell_type": "markdown",
   "metadata": {},
   "source": [
    "# Conservation of momentum\n",
    "$$\n",
    "2\\beta(\\omega_{p}) = \\beta(\\omega_{s}) + \\beta(\\omega_{i}) + 2\\gamma P\n",
    "$$\n",
    "Subtracting all onto one side gives\n",
    "$$\n",
    "2\\beta(\\omega_{p}) - \\beta(\\omega_{s}) - \\beta(\\omega_{i}) - 2\\gamma P = 0\n",
    "$$\n",
    "\n",
    "$\\gamma$ is approximately $0.2Wm^{-1}$  and $P$ is approximately equal to $100W$"
   ]
  },
  {
   "cell_type": "markdown",
   "metadata": {},
   "source": [
    "Mid IR wavelengths range roughly from 2500–25000nm  \n",
    "This corresponds to frequencies of 1.2*10^13 to 1.2*10^14  \n",
    "Which corresponds to angular frequencies of 2 $\\pi$ * these frequencies"
   ]
  },
  {
   "cell_type": "markdown",
   "metadata": {},
   "source": [
    "Will be using 1 micron to 1.6 microns for pump wavelength, with 100 points for spacing.  \n",
    "Signal needs a slightly larger range because the solution we are expecting is steeper in the shorter wavelength range.  \n",
    "100 by 100 matrices should work fine. Anything bigger than 200 by 200 will be too slow."
   ]
  },
  {
   "cell_type": "code",
   "execution_count": 2,
   "metadata": {},
   "outputs": [],
   "source": [
    "import RefractiveIndexClass"
   ]
  },
  {
   "cell_type": "code",
   "execution_count": null,
   "metadata": {},
   "outputs": [],
   "source": []
  },
  {
   "cell_type": "code",
   "execution_count": 3,
   "metadata": {},
   "outputs": [
    {
     "ename": "NameError",
     "evalue": "name 'lambda_to_ang_freq' is not defined",
     "output_type": "error",
     "traceback": [
      "\u001b[0;31m---------------------------------------------------------------------------\u001b[0m",
      "\u001b[0;31mNameError\u001b[0m                                 Traceback (most recent call last)",
      "\u001b[0;32m<ipython-input-3-dd79f753284c>\u001b[0m in \u001b[0;36m<module>\u001b[0;34m\u001b[0m\n\u001b[1;32m     16\u001b[0m \u001b[0mpump_wavelength_matrix\u001b[0m \u001b[0;34m=\u001b[0m \u001b[0mcreate_pump_matrix\u001b[0m\u001b[0;34m(\u001b[0m\u001b[0mrows\u001b[0m\u001b[0;34m,\u001b[0m \u001b[0mcolumns\u001b[0m\u001b[0;34m,\u001b[0m \u001b[0mstart_value\u001b[0m\u001b[0;34m,\u001b[0m \u001b[0mstep\u001b[0m\u001b[0;34m)\u001b[0m\u001b[0;34m\u001b[0m\u001b[0;34m\u001b[0m\u001b[0m\n\u001b[1;32m     17\u001b[0m \u001b[0;34m\u001b[0m\u001b[0m\n\u001b[0;32m---> 18\u001b[0;31m \u001b[0mpump_frequency_matrix\u001b[0m \u001b[0;34m=\u001b[0m \u001b[0mlambda_to_ang_freq\u001b[0m\u001b[0;34m(\u001b[0m\u001b[0mpump_wavelength_matrix\u001b[0m\u001b[0;34m)\u001b[0m\u001b[0;34m\u001b[0m\u001b[0;34m\u001b[0m\u001b[0m\n\u001b[0m\u001b[1;32m     19\u001b[0m \u001b[0;34m\u001b[0m\u001b[0m\n\u001b[1;32m     20\u001b[0m \u001b[0;31m# for i in range(pump_frequency_matrix.shape[0]):\u001b[0m\u001b[0;34m\u001b[0m\u001b[0;34m\u001b[0m\u001b[0;34m\u001b[0m\u001b[0m\n",
      "\u001b[0;31mNameError\u001b[0m: name 'lambda_to_ang_freq' is not defined"
     ]
    }
   ],
   "source": [
    "# PUMP WAVELENGTH MATRIX\n",
    "\n",
    "def create_pump_matrix(rows, columns, start_value, step):\n",
    "    matrix = np.zeros((rows, columns))\n",
    "    for i in range(columns):\n",
    "        matrix[:, i] = np.full(rows, start_value + i * step)\n",
    "    return matrix\n",
    "\n",
    "# Number of rows and columns, start and end values for the pump wavelengths, and spacing between each column value\n",
    "rows = 1000\n",
    "columns = 1000\n",
    "start_value = 1e-6 #1 micron in m\n",
    "end_value = 1.6e-6\n",
    "step = (end_value - start_value) / columns\n",
    "\n",
    "pump_wavelength_matrix = create_pump_matrix(rows, columns, start_value, step)\n",
    "\n",
    "pump_frequency_matrix = lambda_to_ang_freq(pump_wavelength_matrix)\n",
    "\n",
    "# for i in range(pump_frequency_matrix.shape[0]):\n",
    "#     for j in range(pump_frequency_matrix.shape[1]):\n",
    "#         pump_frequency_matrix[i, j] = pump_frequency_matrix[i,j]*RefractiveIndexClass.RefractiveIndex.n_fs(pump_frequency_matrix[i, j],parameter=\"omega\")\n",
    "\n",
    "#print(pump_frequency_matrix)\n",
    "\n",
    "pump_wavelength_matrix"
   ]
  },
  {
   "cell_type": "code",
   "execution_count": 4,
   "metadata": {},
   "outputs": [
    {
     "ename": "NameError",
     "evalue": "name 'lambda_to_ang_freq' is not defined",
     "output_type": "error",
     "traceback": [
      "\u001b[0;31m---------------------------------------------------------------------------\u001b[0m",
      "\u001b[0;31mNameError\u001b[0m                                 Traceback (most recent call last)",
      "\u001b[0;32m<ipython-input-4-d099f4fa1b64>\u001b[0m in \u001b[0;36m<module>\u001b[0;34m\u001b[0m\n\u001b[1;32m     14\u001b[0m \u001b[0;34m\u001b[0m\u001b[0m\n\u001b[1;32m     15\u001b[0m \u001b[0msignal_wavelength_matrix\u001b[0m \u001b[0;34m=\u001b[0m \u001b[0mcreate_signal_matrix\u001b[0m\u001b[0;34m(\u001b[0m\u001b[0mrows\u001b[0m\u001b[0;34m,\u001b[0m \u001b[0mcolumns\u001b[0m\u001b[0;34m,\u001b[0m \u001b[0mmin_value\u001b[0m\u001b[0;34m,\u001b[0m \u001b[0mmax_value\u001b[0m\u001b[0;34m)\u001b[0m\u001b[0;34m\u001b[0m\u001b[0;34m\u001b[0m\u001b[0m\n\u001b[0;32m---> 16\u001b[0;31m \u001b[0msignal_frequency_matrix\u001b[0m \u001b[0;34m=\u001b[0m \u001b[0mlambda_to_ang_freq\u001b[0m\u001b[0;34m(\u001b[0m\u001b[0msignal_wavelength_matrix\u001b[0m\u001b[0;34m)\u001b[0m\u001b[0;34m\u001b[0m\u001b[0;34m\u001b[0m\u001b[0m\n\u001b[0m\u001b[1;32m     17\u001b[0m \u001b[0;34m\u001b[0m\u001b[0m\n\u001b[1;32m     18\u001b[0m \u001b[0;31m# for i in range(signal_frequency_matrix.shape[0]):\u001b[0m\u001b[0;34m\u001b[0m\u001b[0;34m\u001b[0m\u001b[0;34m\u001b[0m\u001b[0m\n",
      "\u001b[0;31mNameError\u001b[0m: name 'lambda_to_ang_freq' is not defined"
     ]
    }
   ],
   "source": [
    "#SIGNAL WAVELENGTH MATRIX\n",
    "\n",
    "def create_signal_matrix(rows, columns, min_value, max_value):\n",
    "    matrix = np.zeros((rows, columns))\n",
    "    for i in range(columns):\n",
    "        matrix[:, i] = np.linspace(min_value, max_value, rows)\n",
    "    return matrix\n",
    "\n",
    "# Example usage\n",
    "rows = 1000\n",
    "columns = 1000\n",
    "min_value = 1.0e-6\n",
    "max_value = 1.6e-6\n",
    "\n",
    "signal_wavelength_matrix = create_signal_matrix(rows, columns, min_value, max_value)\n",
    "signal_frequency_matrix = lambda_to_ang_freq(signal_wavelength_matrix)\n",
    "\n",
    "# for i in range(signal_frequency_matrix.shape[0]):\n",
    "#     for j in range(signal_frequency_matrix.shape[1]):\n",
    "#         signal_frequency_matrix[i, j] = signal_frequency_matrix[i,j]*RefractiveIndexClass.RefractiveIndex.n_fs(signal_frequency_matrix[i, j],parameter=\"omega\")\n",
    "\n",
    "print(signal_wavelength_matrix)"
   ]
  },
  {
   "cell_type": "code",
   "execution_count": 5,
   "metadata": {},
   "outputs": [
    {
     "ename": "NameError",
     "evalue": "name 'pump_frequency_matrix' is not defined",
     "output_type": "error",
     "traceback": [
      "\u001b[0;31m---------------------------------------------------------------------------\u001b[0m",
      "\u001b[0;31mNameError\u001b[0m                                 Traceback (most recent call last)",
      "\u001b[0;32m<ipython-input-5-373634740585>\u001b[0m in \u001b[0;36m<module>\u001b[0;34m\u001b[0m\n\u001b[1;32m      3\u001b[0m \u001b[0;31m#idler_wavelength_matrix = 2*pump_wavelength_matrix - signal_wavelength_matrix #Using cons of energy equation\u001b[0m\u001b[0;34m\u001b[0m\u001b[0;34m\u001b[0m\u001b[0;34m\u001b[0m\u001b[0m\n\u001b[1;32m      4\u001b[0m \u001b[0;34m\u001b[0m\u001b[0m\n\u001b[0;32m----> 5\u001b[0;31m \u001b[0midler_frequency_matrix\u001b[0m \u001b[0;34m=\u001b[0m \u001b[0;36m2\u001b[0m\u001b[0;34m*\u001b[0m\u001b[0mpump_frequency_matrix\u001b[0m \u001b[0;34m-\u001b[0m \u001b[0msignal_frequency_matrix\u001b[0m\u001b[0;34m\u001b[0m\u001b[0;34m\u001b[0m\u001b[0m\n\u001b[0m\u001b[1;32m      6\u001b[0m \u001b[0;34m\u001b[0m\u001b[0m\n\u001b[1;32m      7\u001b[0m \u001b[0;31m# for i in range(idler_frequency_matrix.shape[0]):\u001b[0m\u001b[0;34m\u001b[0m\u001b[0;34m\u001b[0m\u001b[0;34m\u001b[0m\u001b[0m\n",
      "\u001b[0;31mNameError\u001b[0m: name 'pump_frequency_matrix' is not defined"
     ]
    }
   ],
   "source": [
    "# CALCULATION TO GET IDLER WAVELENGTH MATRIX\n",
    "\n",
    "#idler_wavelength_matrix = 2*pump_wavelength_matrix - signal_wavelength_matrix #Using cons of energy equation\n",
    "\n",
    "idler_frequency_matrix = 2*pump_frequency_matrix - signal_frequency_matrix\n",
    "\n",
    "# for i in range(idler_frequency_matrix.shape[0]):\n",
    "#     for j in range(idler_frequency_matrix.shape[1]):\n",
    "#         idler_frequency_matrix[i, j] = idler_frequency_matrix[i,j]*RefractiveIndexClass.RefractiveIndex.n_fs(idler_frequency_matrix[i, j],parameter=\"omega\")\n",
    "\n",
    "idler_frequency_matrix"
   ]
  },
  {
   "cell_type": "markdown",
   "metadata": {},
   "source": [
    "# Turning above code into a function"
   ]
  },
  {
   "cell_type": "code",
   "execution_count": 9,
   "metadata": {},
   "outputs": [],
   "source": [
    "def BuildMatrixFromArray(array, n=-1, repeat_array_as = \"columns\"):\n",
    "    if n == -1: n = len(array)\n",
    "    if repeat_array_as.lower() == \"columns\":\n",
    "        constructed_matrix = np.zeros((len(array), n))\n",
    "        for i in range(n):\n",
    "            constructed_matrix[:, i] = np.transpose(array)\n",
    "        return constructed_matrix\n",
    "    elif repeat_array_as.lower() == \"rows\":\n",
    "        constructed_matrix = np.zeros((n, len(array)))\n",
    "        for i in range(n):\n",
    "            constructed_matrix[i, :] = array\n",
    "        return constructed_matrix\n",
    "    else:\n",
    "        return ValueError(\"Argument given for 'repeat_array_as' is unrecognised. It takes arguments 'rows' or 'columns'\")"
   ]
  },
  {
   "cell_type": "code",
   "execution_count": 6,
   "metadata": {},
   "outputs": [],
   "source": [
    "# Function to convert wavelength to angular frequency\n",
    "def lambda_to_ang_freq(wavelength_matrix):\n",
    "    #return (2*np.pi*3e8*RefractiveIndexClass.RefractiveIndex.n_fs(wavelength_matrix*1.0e-9,parameter=\"wavelength\")) / wavelength_matrix\n",
    "    return (2*np.pi*3e8) / wavelength_matrix"
   ]
  },
  {
   "cell_type": "code",
   "execution_count": 7,
   "metadata": {},
   "outputs": [],
   "source": [
    "gamma = 2e-4 #Unit is m^-1 W^-1\n",
    "P = 100 # W"
   ]
  },
  {
   "cell_type": "code",
   "execution_count": 30,
   "metadata": {},
   "outputs": [
    {
     "name": "stdout",
     "output_type": "stream",
     "text": [
      "[[1.60000000e-06 1.59859880e-06]\n",
      " [1.59949950e-06 1.59815567e-06]\n",
      " [1.59906035e-06 1.59759760e-06]\n",
      " ...\n",
      " [1.18427917e-06 8.01201201e-07]\n",
      " [1.18408408e-06 8.00819808e-07]\n",
      " [1.18366966e-06 8.00000000e-07]]\n"
     ]
    },
    {
     "name": "stderr",
     "output_type": "stream",
     "text": [
      "<ipython-input-30-a294bbedc4a1>:27: UserWarning: The following kwargs were not used by contour: 'color'\n",
      "  phase_matching_contour = plt.contour(pump_wavelengths, signal_wavelengths, delta_beta, levels=[0], color='k')\n"
     ]
    },
    {
     "data": {
      "image/png": "[encoded data removed]",
      "text/plain": [
       "<Figure size 432x288 with 1 Axes>"
      ]
     },
     "metadata": {
      "needs_background": "light"
     },
     "output_type": "display_data"
    }
   ],
   "source": [
    "import matplotlib.pyplot as plt\n",
    "\n",
    "# Input wavelengths in SI units [m]\n",
    "def phase_matching(pump_wavelengths, signal_wavelengths, refractive_index, gamma = 2e-4, P = 100):\n",
    "    # *** Construct the pump and signal matrices *** #\n",
    "    pump_matrix_wavelengths = BuildMatrixFromArray(pump_wavelengths, len(signal_wavelengths), repeat_array_as = \"rows\")\n",
    "    signal_matrix_wavelengths = BuildMatrixFromArray(signal_wavelengths, len(pump_wavelengths), repeat_array_as = \"columns\")\n",
    "\n",
    "    # *** Convert to frequency *** #\n",
    "    pump_matrix_omegas = lambda_to_ang_freq(pump_matrix_wavelengths)\n",
    "    signal_matrix_omegas = lambda_to_ang_freq(signal_matrix_wavelengths)\n",
    "    \n",
    "    # *** Conservation of energy to create idler matrix *** #\n",
    "    idler_matrix_omegas = 2 * pump_matrix_omegas - signal_matrix_omegas\n",
    "    \n",
    "    # *** Find the betas *** #\n",
    "    pump_betas = refractive_index(pump_matrix_omegas,parameter=\"omega\") * pump_matrix_omegas / 3e8\n",
    "    signal_betas = refractive_index(signal_matrix_omegas, parameter=\"omega\") * signal_matrix_omegas / 3e8\n",
    "    idler_betas = refractive_index(idler_matrix_omegas, parameter=\"omega\") * idler_matrix_omegas / 3e8\n",
    "\n",
    "    # *** Phase matching: Momentum conservation *** #\n",
    "    delta_beta = 2 * pump_betas - signal_betas - idler_betas - 2 * gamma * P\n",
    "    # plt.imshow(delta_beta, cmap='jet', interpolation='nearest')\n",
    "    # plt.colorbar()  # Add colorbar to show the scale\n",
    "    # plt.show()\n",
    "  \n",
    "    phase_matching_contour = plt.contour(pump_wavelengths, signal_wavelengths, delta_beta, levels=[0], color='k')\n",
    "    contour_data = phase_matching_contour.collections[0].get_paths()[0].vertices\n",
    "    print(contour_data)\n",
    "    # plt.plot(contour_data)\n",
    "    plt.xlabel('Pump [m]')\n",
    "    plt.ylabel('Signal, Idler [m]')\n",
    "    plt.title('Phase Matching Plot')  \n",
    "    plt.show() \n",
    "\n",
    "pump_wavelengths = np.linspace(1.1e-6, 1.6e-6, 1000)\n",
    "signal_wavelengths = np.linspace(0.8e-6, 2.0e-6, 1000)\n",
    "refractive_index = RefractiveIndexClass.RefractiveIndex.n_fs\n",
    "phase_matching(pump_wavelengths=pump_wavelengths, signal_wavelengths=signal_wavelengths, refractive_index=refractive_index) "
   ]
  },
  {
   "cell_type": "code",
   "execution_count": null,
   "metadata": {},
   "outputs": [],
   "source": []
  },
  {
   "cell_type": "markdown",
   "metadata": {},
   "source": [
    "## Input all pump and signal and idler frequencies into beta, then calculate matrix of $\\Delta\\beta$ so we can plot it and see if we get expected shape."
   ]
  },
  {
   "cell_type": "code",
   "execution_count": null,
   "metadata": {},
   "outputs": [
    {
     "data": {
      "text/plain": [
       "array([[-4.00000000e-02, -6.69378871e-02, -1.47400011e-01, ...,\n",
       "         4.07883809e+04,  4.10125872e+04,  4.12381544e+04],\n",
       "       [-6.70475727e-02, -4.00000298e-02, -6.67641339e-02, ...,\n",
       "         4.05044138e+04,  4.07266678e+04,  4.09502655e+04],\n",
       "       [-1.48060457e-01, -6.69809961e-02, -4.00001062e-02, ...,\n",
       "         4.02232248e+04,  4.04435520e+04,  4.06652063e+04],\n",
       "       ...,\n",
       "       [-9.47069373e+03, -9.41901255e+03, -9.36755501e+03, ...,\n",
       "        -3.34048289e-02, -3.99999730e-02, -3.33320507e-02],\n",
       "       [-9.48097833e+03, -9.42925484e+03, -9.37775510e+03, ...,\n",
       "        -1.35597270e-02, -3.33867427e-02, -3.99999944e-02],\n",
       "       [-9.49125685e+03, -9.43949107e+03, -9.38794914e+03, ...,\n",
       "         1.95055930e-02, -1.35138053e-02, -3.33686368e-02]])"
      ]
     },
     "execution_count": 70,
     "metadata": {},
     "output_type": "execute_result"
    }
   ],
   "source": [
    "pump_beta = RefractiveIndexClass.RefractiveIndex.n_fs(pump_frequency_matrix,parameter=\"omega\") * pump_frequency_matrix / 3e8\n",
    "#print(pump_beta)\n",
    "signal_beta = RefractiveIndexClass.RefractiveIndex.n_fs(signal_frequency_matrix, parameter=\"omega\") * signal_frequency_matrix / 3e8\n",
    "idler_beta = RefractiveIndexClass.RefractiveIndex.n_fs(idler_frequency_matrix, parameter=\"omega\") * idler_frequency_matrix / 3e8\n",
    "\n",
    "gamma = 2e-4 #Unit is m^-1 W^-1\n",
    "P = 100 # W\n",
    "\n",
    "# Momentum conservation equation\n",
    "delta_beta = 2*pump_beta - signal_beta - idler_beta - 2*gamma*P\n",
    "delta_beta"
   ]
  },
  {
   "cell_type": "code",
   "execution_count": null,
   "metadata": {},
   "outputs": [],
   "source": []
  },
  {
   "cell_type": "code",
   "execution_count": null,
   "metadata": {},
   "outputs": [
    {
     "data": {
      "image/png": "[encoded data removed]",
      "text/plain": [
       "<Figure size 432x288 with 2 Axes>"
      ]
     },
     "metadata": {
      "needs_background": "light"
     },
     "output_type": "display_data"
    }
   ],
   "source": [
    "# Plot the heatmap\n",
    "import matplotlib.pyplot as plt\n",
    "plt.imshow(delta_beta, cmap='jet', interpolation='nearest')\n",
    "plt.colorbar()  # Add colorbar to show the scale\n",
    "plt.show()"
   ]
  },
  {
   "cell_type": "code",
   "execution_count": 18,
   "metadata": {},
   "outputs": [
    {
     "ename": "NameError",
     "evalue": "name 'delta_beta' is not defined",
     "output_type": "error",
     "traceback": [
      "\u001b[0;31m---------------------------------------------------------------------------\u001b[0m",
      "\u001b[0;31mNameError\u001b[0m                                 Traceback (most recent call last)",
      "\u001b[0;32m<ipython-input-18-8f676d6e571d>\u001b[0m in \u001b[0;36m<module>\u001b[0;34m\u001b[0m\n\u001b[1;32m      1\u001b[0m \u001b[0mX\u001b[0m \u001b[0;34m=\u001b[0m \u001b[0mnp\u001b[0m\u001b[0;34m.\u001b[0m\u001b[0mlinspace\u001b[0m\u001b[0;34m(\u001b[0m\u001b[0;36m1e-6\u001b[0m\u001b[0;34m,\u001b[0m\u001b[0;36m1.6e-6\u001b[0m\u001b[0;34m,\u001b[0m\u001b[0;36m1000\u001b[0m\u001b[0;34m)\u001b[0m\u001b[0;34m\u001b[0m\u001b[0;34m\u001b[0m\u001b[0m\n\u001b[1;32m      2\u001b[0m \u001b[0mY\u001b[0m \u001b[0;34m=\u001b[0m \u001b[0mnp\u001b[0m\u001b[0;34m.\u001b[0m\u001b[0mlinspace\u001b[0m\u001b[0;34m(\u001b[0m\u001b[0;36m1e-6\u001b[0m\u001b[0;34m,\u001b[0m\u001b[0;36m1.6e-6\u001b[0m\u001b[0;34m,\u001b[0m\u001b[0;36m1000\u001b[0m\u001b[0;34m)\u001b[0m\u001b[0;34m\u001b[0m\u001b[0;34m\u001b[0m\u001b[0m\n\u001b[0;32m----> 3\u001b[0;31m \u001b[0mplt\u001b[0m\u001b[0;34m.\u001b[0m\u001b[0mcontour\u001b[0m\u001b[0;34m(\u001b[0m\u001b[0mX\u001b[0m\u001b[0;34m,\u001b[0m \u001b[0mY\u001b[0m\u001b[0;34m,\u001b[0m \u001b[0;34m-\u001b[0m\u001b[0;36m1\u001b[0m\u001b[0;34m*\u001b[0m\u001b[0mdelta_beta\u001b[0m\u001b[0;34m,\u001b[0m\u001b[0mlevels\u001b[0m\u001b[0;34m=\u001b[0m\u001b[0;34m[\u001b[0m\u001b[0;36m0\u001b[0m\u001b[0;34m]\u001b[0m\u001b[0;34m)\u001b[0m\u001b[0;34m\u001b[0m\u001b[0;34m\u001b[0m\u001b[0m\n\u001b[0m\u001b[1;32m      4\u001b[0m \u001b[0mplt\u001b[0m\u001b[0;34m.\u001b[0m\u001b[0mxlabel\u001b[0m\u001b[0;34m(\u001b[0m\u001b[0;34m'Pump'\u001b[0m\u001b[0;34m)\u001b[0m\u001b[0;34m\u001b[0m\u001b[0;34m\u001b[0m\u001b[0m\n\u001b[1;32m      5\u001b[0m \u001b[0mplt\u001b[0m\u001b[0;34m.\u001b[0m\u001b[0mylabel\u001b[0m\u001b[0;34m(\u001b[0m\u001b[0;34m'Signal, Idler'\u001b[0m\u001b[0;34m)\u001b[0m\u001b[0;34m\u001b[0m\u001b[0;34m\u001b[0m\u001b[0m\n",
      "\u001b[0;31mNameError\u001b[0m: name 'delta_beta' is not defined"
     ]
    }
   ],
   "source": [
    "X = np.linspace(1e-6,1.6e-6,1000)\n",
    "Y = np.linspace(1e-6,1.6e-6,1000)\n",
    "plt.contour(X, Y, -1*delta_beta,levels=[0])\n",
    "plt.xlabel('Pump')\n",
    "plt.ylabel('Signal, Idler')\n",
    "plt.title('Phase Matching Plot')"
   ]
  },
  {
   "cell_type": "markdown",
   "metadata": {},
   "source": [
    "# Testing"
   ]
  },
  {
   "cell_type": "code",
   "execution_count": null,
   "metadata": {},
   "outputs": [],
   "source": []
  },
  {
   "cell_type": "code",
   "execution_count": null,
   "metadata": {},
   "outputs": [],
   "source": []
  },
  {
   "cell_type": "code",
   "execution_count": null,
   "metadata": {},
   "outputs": [],
   "source": []
  },
  {
   "cell_type": "code",
   "execution_count": null,
   "metadata": {},
   "outputs": [
    {
     "data": {
      "image/png": "[encoded data removed]",
      "text/plain": [
       "<Figure size 432x288 with 2 Axes>"
      ]
     },
     "metadata": {
      "needs_background": "light"
     },
     "output_type": "display_data"
    }
   ],
   "source": [
    "x = np.linspace(-3, 3, 100)\n",
    "y = np.linspace(-3, 3, 100)\n",
    "X, Y = np.meshgrid(x, y)\n",
    "Z = np.sin(X) + np.cos(Y)\n",
    "\n",
    "# Create contour plot\n",
    "plt.contour(X, Y, Z)\n",
    "plt.xlabel('X')\n",
    "plt.ylabel('Y')\n",
    "plt.title('Contour Plot')\n",
    "plt.colorbar()  # Add color bar to show the scale\n",
    "plt.show()"
   ]
  },
  {
   "cell_type": "code",
   "execution_count": null,
   "metadata": {},
   "outputs": [],
   "source": []
  },
  {
   "cell_type": "code",
   "execution_count": null,
   "metadata": {},
   "outputs": [],
   "source": []
  },
  {
   "cell_type": "markdown",
   "metadata": {},
   "source": [
    "# Modelling for HCF filled with noble gas"
   ]
  },
  {
   "cell_type": "markdown",
   "metadata": {},
   "source": [
    "Equation 22 of Markos paper will let us calculate the bulk refractive index of the gas in the fibre.  \n",
    "$$ n^{2}_{gas} - 1 = Re(\\chi_{e}) =  \\sum_{t}^{} \\frac{N_{t}}{N_{t,0}}Re(\\chi_{t,e})  $$  \n",
    "Or can use this equation from Borzsonyi 2008 paper:  \n",
    "$$ n^{2}(\\lambda,p,T) - 1 = \\frac{p}{p_{0}}\\frac{T_{0}}{T} [\\frac{B_{1}\\lambda^{2}}{\\lambda^{2}-C_{1}} + \\frac{B_{2}\\lambda^{2}}{\\lambda^{2}-C_{2}}] $$"
   ]
  }
 ],
 "metadata": {
  "kernelspec": {
   "display_name": "base",
   "language": "python",
   "name": "python3"
  },
  "language_info": {
   "codemirror_mode": {
    "name": "ipython",
    "version": 3
   },
   "file_extension": ".py",
   "mimetype": "text/x-python",
   "name": "python",
   "nbconvert_exporter": "python",
   "pygments_lexer": "ipython3",
   "version": "3.8.8"
  }
 },
 "nbformat": 4,
 "nbformat_minor": 2
}
