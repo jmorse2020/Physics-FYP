{
 "cells": [
  {
   "cell_type": "markdown",
   "metadata": {},
   "source": [
    "This script aims to calculate and plot the dispersion of anti-resonant hollowcore fibre based on the results in 'Analytic model for the complex\n",
    "effective index of the leaky modes of tube-type anti-resonant hollowcore fibers', Zeisberger et al."
   ]
  },
  {
   "cell_type": "code",
   "execution_count": 2,
   "metadata": {
    "dotnet_interactive": {
     "language": "csharp"
    },
    "polyglot_notebook": {
     "kernelName": "csharp"
    }
   },
   "outputs": [],
   "source": [
    "import numpy as np\n",
    "import matplotlib.pyplot as plt"
   ]
  },
  {
   "cell_type": "markdown",
   "metadata": {},
   "source": [
    "The main equation we wish to model is:\n",
    "$$ Re(n_{\\textrm{\\textit{eff}}}) = n_a - \\frac{j^2}{2k_0^2n_a R^2} - \\frac{j^2}{k_0^3 n_a^2 R^3}\\frac{\\cot(\\phi)}{\\sqrt{\\varepsilon - 1}}\\frac{(\\varepsilon + 1)}{2}$$\n",
    "for $HE_{11}$. In this equation, $n_a \\approx 1$ is the refractive index of air, \n"
   ]
  },
  {
   "cell_type": "markdown",
   "metadata": {},
   "source": [
    "$\\phi = k_0 \\omega \\sqrt{n_g^2 - n_a^2} \\left(1 + O\\left(\\frac{\\kappa}{k_0}\\right)^2\\right)$,  $k_0$ is the longditudinal $k$ vector in vacuum $\\omega / c$\n",
    "and $\\varepsilon = n_g^2 / n_a^2$ with $n_g$ being the refractive index of the glass capillary."
   ]
  },
  {
   "cell_type": "markdown",
   "metadata": {},
   "source": [
    "$R$ is the core diameter ($\\approx 20 \\mu m$), and $j = j_{m-1,n}$ represents the $n$-th root of the Bessel function (of order $m$) $j_m$; i.e. the 1st root of $j_0$."
   ]
  },
  {
   "cell_type": "code",
   "execution_count": 2,
   "metadata": {},
   "outputs": [],
   "source": [
    "from scipy.special import jn_zeros\n",
    "\n",
    "def find_bessel_zero(m, n):\n",
    "    # m is the order of the Bessel function\n",
    "    # n is the index of the zero (0-based)\n",
    "\n",
    "    # Using jn_zeros to get the zeros of the Bessel function\n",
    "    zeros = jn_zeros(m, n+1)  # n+1 because the function is 0-indexed\n",
    "\n",
    "    # Return the nth zero\n",
    "    return zeros[n]"
   ]
  },
  {
   "cell_type": "code",
   "execution_count": null,
   "metadata": {},
   "outputs": [],
   "source": [
    "import RefractiveIndexClass as ri\n",
    "import matplotlib.pyplot as plt\n",
    "import numpy as np\n",
    "c=3e8\n",
    "wavelengths = np.linspace(1000, 2000, 1000)\n",
    "omegas = np.linspace(2 * np.pi * c / 1000e-9, 2 * np.pi * c/ 2000e-9, 1000)\n",
    "ri_w = ri.RefractiveIndex.n_fs(wavelengths, parameter=\"wavelength\")\n",
    "ri_o = ri.RefractiveIndex.n_fs(2 * np.pi * c / wavelengths, parameter=\"omega\")\n",
    "plt.plot(wavelengths, ri_w)\n",
    "plt.show()\n",
    "plt.plot(2 * np.pi * c / wavelengths, ri_o)\n",
    "plt.show()\n"
   ]
  },
  {
   "cell_type": "markdown",
   "metadata": {},
   "source": [
    "Define the key parameters:"
   ]
  },
  {
   "cell_type": "code",
   "execution_count": 13,
   "metadata": {},
   "outputs": [
    {
     "name": "stdout",
     "output_type": "stream",
     "text": [
      "j is:  5.520078110286311\n",
      "In the function\n",
      "omega\n",
      "In the function\n",
      "wavelength\n"
     ]
    },
    {
     "data": {
      "text/plain": [
       "(-0.001, 0.0)"
      ]
     },
     "execution_count": 13,
     "metadata": {},
     "output_type": "execute_result"
    },
    {
     "data": {
      "image/png": "[encoded data removed]",
      "text/plain": [
       "<Figure size 432x288 with 1 Axes>"
      ]
     },
     "metadata": {
      "needs_background": "light"
     },
     "output_type": "display_data"
    }
   ],
   "source": [
    "import RefractiveIndexClass as ri\n",
    "import matplotlib.pyplot as plt\n",
    "import numpy as np\n",
    "import math\n",
    "c = 3e8 # m/s\n",
    "omegas = np.linspace(2 * np.pi * c / 1000e-9, 2 * np.pi * c/ 2000e-9, 1000)\n",
    "lambdas = np.linspace(400e-9, 1400e-9, 1000)\n",
    "n_a = 1.0\n",
    "jz = find_bessel_zero(0, 1)\n",
    "print(\"j is: \", jz)\n",
    "k_0 = omegas / c\n",
    "k_0_lambda = 2 * np.pi / lambdas\n",
    "R = 20e-6\n",
    "n_g = ri.RefractiveIndex.n_fs(omegas, parameter=\"omega\")\n",
    "n_g_lambda = ri.RefractiveIndex.n_fs(lambdas*1e9, parameter=\"wavelength\")\n",
    "# plt.plot(lambdas, n_g_lambda)\n",
    "# plt.show()\n",
    "phi = k_0 * omegas * np.sqrt(n_g**2 - n_a**2)\n",
    "phi_lambda = k_0_lambda * (2 * np.pi * c / lambdas) * np.sqrt(n_g_lambda**2 - n_a**2)\n",
    "# print(phi)\n",
    "epsilon = n_g**2\n",
    "epsilon_lambda = n_g_lambda**2/n_a**2\n",
    "cot_phi = 1/np.tan(phi)\n",
    "n_eff = n_a - ((jz**2)/(2 * k_0**2 * n_a * R**2)) - ((jz**2)/(k_0**3 * n_a**2 * R**3)) * ((cot_phi)/(np.sqrt(epsilon - 1)))*((epsilon + 1))/(2)\n",
    "n_eff_lambda = n_a - (jz**2)/(2 * k_0_lambda**2 * n_a * R**2) - (jz**2)/(k_0_lambda**3 * n_a**2 * R**3)*(1)/(np.tan(phi_lambda) * np.sqrt(epsilon_lambda - 1))*((epsilon_lambda + 1))/(2)\n",
    "plt.plot(lambdas, n_eff_lambda-1)\n",
    "plt.ylim([-10e-4,0])"
   ]
  }
 ],
 "metadata": {
  "kernelspec": {
   "display_name": "base",
   "language": "python",
   "name": "python3"
  },
  "language_info": {
   "codemirror_mode": {
    "name": "ipython",
    "version": 3
   },
   "file_extension": ".py",
   "mimetype": "text/x-python",
   "name": "python",
   "nbconvert_exporter": "python",
   "pygments_lexer": "ipython3",
   "version": "3.8.8"
  },
  "polyglot_notebook": {
   "kernelInfo": {
    "defaultKernelName": "csharp",
    "items": [
     {
      "aliases": [],
      "name": "csharp"
     }
    ]
   }
  }
 },
 "nbformat": 4,
 "nbformat_minor": 2
}
