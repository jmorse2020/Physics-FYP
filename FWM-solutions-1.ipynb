{
 "cells": [
  {
   "cell_type": "code",
   "execution_count": 1,
   "metadata": {},
   "outputs": [],
   "source": [
    "import numpy as np\n",
    "import matplotlib.pyplot as plt\n",
    "import RefractiveIndexClass as ri"
   ]
  },
  {
   "cell_type": "code",
   "execution_count": 5,
   "metadata": {},
   "outputs": [],
   "source": [
    "# Beta for FS\n",
    "beta = lambda lams: 2 * np.pi * ri.RefractiveIndex.n_fs(lams) / lams\n",
    "\n"
   ]
  },
  {
   "cell_type": "code",
   "execution_count": 12,
   "metadata": {},
   "outputs": [
    {
     "name": "stdout",
     "output_type": "stream",
     "text": [
      "Solution for Sigma: 100.0\n",
      "[100.]\n"
     ]
    }
   ],
   "source": [
    "from scipy.optimize import fsolve\n",
    "\n",
    "def equation(sigma, beta, lambda_p, C):\n",
    "    omega_p = 2 * np.pi * 3e17 / lambda_p\n",
    "    return 2 * beta(omega_p) - beta(omega_p + sigma) - beta(omega_p - sigma) + C\n",
    "\n",
    "fixed_params = (beta, 1064, 2 * 0.2 * 100)\n",
    "equation_to_solve = lambda variable: equation(variable, *fixed_params)\n",
    "\n",
    "# Initial guess for the variable\n",
    "initial_guess = 100\n",
    "\n",
    "# Use fsolve to find the root\n",
    "result = fsolve(equation_to_solve, initial_guess)\n",
    "\n",
    "\n",
    "print(\"Solution for Sigma:\", result[0])\n",
    "print(result)"
   ]
  }
 ],
 "metadata": {
  "kernelspec": {
   "display_name": "base",
   "language": "python",
   "name": "python3"
  },
  "language_info": {
   "codemirror_mode": {
    "name": "ipython",
    "version": 3
   },
   "file_extension": ".py",
   "mimetype": "text/x-python",
   "name": "python",
   "nbconvert_exporter": "python",
   "pygments_lexer": "ipython3",
   "version": "3.8.8"
  }
 },
 "nbformat": 4,
 "nbformat_minor": 2
}
